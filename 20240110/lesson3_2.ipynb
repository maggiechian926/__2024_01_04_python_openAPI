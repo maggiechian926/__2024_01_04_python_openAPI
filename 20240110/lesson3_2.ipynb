{
 "cells": [
  {
   "cell_type": "code",
   "execution_count": 1,
   "metadata": {},
   "outputs": [
    {
     "data": {
      "text/plain": [
       "20"
      ]
     },
     "execution_count": 1,
     "metadata": {},
     "output_type": "execute_result"
    }
   ],
   "source": [
    "# = 指定運算子\n",
    "n = 5\n",
    "n = n + 5\n",
    "n = n * 2\n",
    "n"
   ]
  },
  {
   "cell_type": "code",
   "execution_count": 2,
   "metadata": {},
   "outputs": [
    {
     "data": {
      "text/plain": [
       "20"
      ]
     },
     "execution_count": 2,
     "metadata": {},
     "output_type": "execute_result"
    }
   ],
   "source": [
    "\n",
    "#複合指定運算子\n",
    "\n",
    "m = 5\n",
    "m += 5\n",
    "m *= 2\n",
    "m"
   ]
  },
  {
   "cell_type": "markdown",
   "metadata": {},
   "source": []
  },
  {
   "cell_type": "code",
   "execution_count": 3,
   "metadata": {},
   "outputs": [
    {
     "data": {
      "text/plain": [
       "10"
      ]
     },
     "execution_count": 3,
     "metadata": {},
     "output_type": "execute_result"
    }
   ],
   "source": [
    "value = int (input(\"請輸入整數\"))\n",
    "value"
   ]
  },
  {
   "cell_type": "code",
   "execution_count": 4,
   "metadata": {},
   "outputs": [
    {
     "data": {
      "text/plain": [
       "int"
      ]
     },
     "execution_count": 4,
     "metadata": {},
     "output_type": "execute_result"
    }
   ],
   "source": [
    "type(value)"
   ]
  },
  {
   "cell_type": "code",
   "execution_count": 5,
   "metadata": {},
   "outputs": [
    {
     "data": {
      "text/plain": [
       "float"
      ]
     },
     "execution_count": 5,
     "metadata": {},
     "output_type": "execute_result"
    }
   ],
   "source": [
    "value1 = float(input(\"請輸入浮點數:\"))\n",
    "type(value1)"
   ]
  },
  {
   "cell_type": "code",
   "execution_count": 6,
   "metadata": {},
   "outputs": [
    {
     "name": "stdout",
     "output_type": "stream",
     "text": [
      "矩形的面積是 25000.0 平方公分\n"
     ]
    }
   ],
   "source": [
    "#請輸入矩形的寬,高,計算面積\n",
    "width = float(input(\"請輸入寬:\"))\n",
    "height = float(input(\"請輸入高:\"))\n",
    "print(\"矩形的面積是\", width * height, \"平方公分\")"
   ]
  },
  {
   "cell_type": "code",
   "execution_count": 9,
   "metadata": {},
   "outputs": [
    {
     "ename": "ModuleNotFoundError",
     "evalue": "No module named 'pyinputplus'",
     "output_type": "error",
     "traceback": [
      "\u001b[0;31m---------------------------------------------------------------------------\u001b[0m",
      "\u001b[0;31mModuleNotFoundError\u001b[0m                       Traceback (most recent call last)",
      "Cell \u001b[0;32mIn[9], line 1\u001b[0m\n\u001b[0;32m----> 1\u001b[0m \u001b[38;5;28;01mimport\u001b[39;00m \u001b[38;5;21;01mpyinputplus\u001b[39;00m \u001b[38;5;28;01mas\u001b[39;00m \u001b[38;5;21;01mpyip\u001b[39;00m\n\u001b[1;32m      3\u001b[0m height_cm \u001b[38;5;241m=\u001b[39m pyip\u001b[38;5;241m.\u001b[39minputInt(\u001b[38;5;124m\"\u001b[39m\u001b[38;5;124m請輸入身高cm:\u001b[39m\u001b[38;5;124m\"\u001b[39m)\n\u001b[1;32m      4\u001b[0m \u001b[38;5;28mprint\u001b[39m(height_cm)\n",
      "\u001b[0;31mModuleNotFoundError\u001b[0m: No module named 'pyinputplus'"
     ]
    }
   ],
   "source": [
    "import pyinputplus as pyip\n",
    "\n",
    "height_cm = pyip.inputInt(\"請輸入身高cm:\")\n",
    "print(height_cm)\n",
    "weight_kg= pyip.inputInt(\"請輸入體重kg:\")\n",
    "print(weight_kg)\n",
    "\n",
    "\n",
    "height_m = height_cm / 100 \n",
    "bmi = weight_kg / (height_m ** 2)\n",
    "\n",
    "if bmi < 18.5:\n",
    "  message = \"太輕\"\n",
    "elif 18.5 <= bmi < 25:\n",
    "    message = \"正常\"=\n",
    "elif 25 <= bmi < 30:\n",
    "    message = \"過重\" \n",
    "else:\n",
    "    message = \"肥胖\"\n",
    "    \n",
    "\n",
    "print(bmi,message)  "
   ]
  }
 ],
 "metadata": {
  "kernelspec": {
   "display_name": "Python 3",
   "language": "python",
   "name": "python3"
  },
  "language_info": {
   "codemirror_mode": {
    "name": "ipython",
    "version": 3
   },
   "file_extension": ".py",
   "mimetype": "text/x-python",
   "name": "python",
   "nbconvert_exporter": "python",
   "pygments_lexer": "ipython3",
   "version": "3.10.8"
  }
 },
 "nbformat": 4,
 "nbformat_minor": 2
}
